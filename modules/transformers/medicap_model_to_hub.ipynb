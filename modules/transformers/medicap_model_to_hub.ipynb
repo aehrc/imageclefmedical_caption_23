{
 "cells": [
  {
   "cell_type": "code",
   "execution_count": 57,
   "metadata": {},
   "outputs": [
    {
     "name": "stdout",
     "output_type": "stream",
     "text": [
      "The autoreload extension is already loaded. To reload it, use:\n",
      "  %reload_ext autoreload\n"
     ]
    }
   ],
   "source": [
    "%load_ext autoreload\n",
    "%autoreload 2"
   ]
  },
  {
   "cell_type": "code",
   "execution_count": 58,
   "metadata": {},
   "outputs": [],
   "source": [
    "from medicap.modelling_medicap import MedICapEncoderDecoderModel, CvtWithProjectionHeadConfig\n",
    "from medicap.configuration_medicap import MedICapConfig\n",
    "import torch\n",
    "import transformers\n",
    "import os\n",
    "import warnings"
   ]
  },
  {
   "cell_type": "code",
   "execution_count": 59,
   "metadata": {},
   "outputs": [
    {
     "data": {
      "text/plain": [
       "('4.31.0', '2.0.1+cu117')"
      ]
     },
     "execution_count": 59,
     "metadata": {},
     "output_type": "execute_result"
    }
   ],
   "source": [
    "transformers.__version__, torch.__version__"
   ]
  },
  {
   "cell_type": "code",
   "execution_count": 60,
   "metadata": {},
   "outputs": [],
   "source": [
    "# Hub checkpoint name:\n",
    "hub_ckpt_name = 'aehrc/medicap'"
   ]
  },
  {
   "cell_type": "code",
   "execution_count": 61,
   "metadata": {},
   "outputs": [],
   "source": [
    "# Paths:\n",
    "ckpt_path = '/datasets/work/hb-mlaifsp-mm/work/experiments/imageclefmed_caption_2023/007_no_ca_scst/trial_2/epoch=2-step=5712-val_bertscore_f1=0.645100.ckpt'\n",
    "ckpt_zoo_dir = '/datasets/work/hb-mlaifsp-mm/work/checkpoints'"
   ]
  },
  {
   "cell_type": "code",
   "execution_count": 62,
   "metadata": {},
   "outputs": [],
   "source": [
    "# Load state dict with depreciated keys:\n",
    "state_dict = torch.load(ckpt_path, map_location=torch.device('cpu'))['state_dict']"
   ]
  },
  {
   "cell_type": "code",
   "execution_count": 63,
   "metadata": {},
   "outputs": [],
   "source": [
    "# Encoder & decoder config:\n",
    "decoder_ckpt_name = 'distilgpt2'\n",
    "config_decoder = transformers.GPT2Config.from_pretrained(\n",
    "    os.path.join(ckpt_zoo_dir, decoder_ckpt_name),\n",
    "    local_files_only=True,\n",
    ")\n",
    "config_decoder.add_cross_attention = False  # No cross attention.\n",
    "config_decoder.is_decoder = True\n",
    "            \n",
    "# Resize GPT2 token embedding to include the padding and beginning of sentence tokens:\n",
    "config_decoder.vocab_size += 2\n",
    "\n",
    "encoder_ckpt_name = 'microsoft/cvt-21-384-22k'\n",
    "config_encoder = CvtWithProjectionHeadConfig.from_pretrained(\n",
    "    os.path.join(ckpt_zoo_dir, encoder_ckpt_name),\n",
    "    local_files_only=True,\n",
    "    projection_size=config_decoder.hidden_size,\n",
    ")\n",
    "config = MedICapConfig.from_encoder_decoder_configs(config_encoder, config_decoder)\n",
    "\n",
    "# Encoder-to-decoder instance:\n",
    "MedICapEncoderDecoderModel.register_for_auto_class(\"AutoModel\")\n",
    "encoder_decoder = MedICapEncoderDecoderModel(config=config)"
   ]
  },
  {
   "cell_type": "code",
   "execution_count": 64,
   "metadata": {},
   "outputs": [],
   "source": [
    "state_dict = {k:v for k,v in state_dict.items() if not 'masked_bias' in k}\n",
    "state_dict = {k:v for k,v in state_dict.items() if not '.attn.bias' in k}"
   ]
  },
  {
   "cell_type": "code",
   "execution_count": 65,
   "metadata": {},
   "outputs": [
    {
     "data": {
      "text/plain": [
       "<All keys matched successfully>"
      ]
     },
     "execution_count": 65,
     "metadata": {},
     "output_type": "execute_result"
    }
   ],
   "source": [
    "# Load renamed state dict:\n",
    "encoder_decoder.load_state_dict(state_dict)"
   ]
  },
  {
   "cell_type": "code",
   "execution_count": 66,
   "metadata": {},
   "outputs": [
    {
     "data": {
      "text/plain": [
       "2"
      ]
     },
     "execution_count": 66,
     "metadata": {},
     "output_type": "execute_result"
    }
   ],
   "source": [
    "# Load tokenizer:\n",
    "tokenizer = transformers.GPT2TokenizerFast.from_pretrained(\n",
    "    os.path.join(ckpt_zoo_dir, decoder_ckpt_name),\n",
    "    local_files_only=True,\n",
    ")\n",
    "tokenizer.add_special_tokens({'bos_token': '[BOS]', 'pad_token': '[PAD]'})"
   ]
  },
  {
   "cell_type": "code",
   "execution_count": 67,
   "metadata": {},
   "outputs": [],
   "source": [
    "# Image processor:\n",
    "image_processor = transformers.AutoFeatureExtractor.from_pretrained(os.path.join(ckpt_zoo_dir, encoder_ckpt_name))"
   ]
  },
  {
   "cell_type": "code",
   "execution_count": 68,
   "metadata": {},
   "outputs": [
    {
     "data": {
      "text/plain": [
       "['/scratch2/nic261/checkpoints/medicap/preprocessor_config.json']"
      ]
     },
     "execution_count": 68,
     "metadata": {},
     "output_type": "execute_result"
    }
   ],
   "source": [
    "# Save model:\n",
    "save_path = '/scratch2/nic261/checkpoints/medicap'\n",
    "encoder_decoder.save_pretrained(save_path)\n",
    "config.save_pretrained(save_path)\n",
    "tokenizer.save_pretrained(save_path)\n",
    "image_processor.save_pretrained(save_path)"
   ]
  },
  {
   "cell_type": "code",
   "execution_count": 69,
   "metadata": {},
   "outputs": [
    {
     "name": "stdout",
     "output_type": "stream",
     "text": [
      "Token will not been saved to git credential helper. Pass `add_to_git_credential=True` if you want to set the git credential as well.\n",
      "Token is valid (permission: write).\n",
      "Your token has been saved to /home/nic261/.cache/huggingface/token\n",
      "Login successful\n"
     ]
    }
   ],
   "source": [
    "# Hub login:\n",
    "from huggingface_hub import login\n",
    "\n",
    "with open('/home/nic261/hf_token.txt', 'r') as f:\n",
    "    token = f.readline()\n",
    "login(token=token[:-1])\n",
    "del token"
   ]
  },
  {
   "cell_type": "code",
   "execution_count": 70,
   "metadata": {},
   "outputs": [
    {
     "data": {
      "text/plain": [
       "'https://huggingface.co/aehrc/medicap/tree/main/'"
      ]
     },
     "execution_count": 70,
     "metadata": {},
     "output_type": "execute_result"
    }
   ],
   "source": [
    "# Push to hub:\n",
    "from huggingface_hub import HfApi\n",
    "\n",
    "api = HfApi()\n",
    "api.upload_folder(\n",
    "    folder_path=save_path,\n",
    "    repo_id=hub_ckpt_name,\n",
    "    repo_type='model',\n",
    ")"
   ]
  }
 ],
 "metadata": {
  "kernelspec": {
   "display_name": "cxrmate",
   "language": "python",
   "name": "python3"
  },
  "language_info": {
   "codemirror_mode": {
    "name": "ipython",
    "version": 3
   },
   "file_extension": ".py",
   "mimetype": "text/x-python",
   "name": "python",
   "nbconvert_exporter": "python",
   "pygments_lexer": "ipython3",
   "version": "3.9.4"
  },
  "orig_nbformat": 4
 },
 "nbformat": 4,
 "nbformat_minor": 2
}
